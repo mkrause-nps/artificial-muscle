{
 "cells": [
  {
   "cell_type": "markdown",
   "id": "b9b37a15",
   "metadata": {},
   "source": [
    "# Results from Analise's Degassing Experiments"
   ]
  },
  {
   "cell_type": "code",
   "execution_count": 74,
   "id": "45a3be9a",
   "metadata": {},
   "outputs": [],
   "source": [
    "import os\n",
    "import numpy as np\n",
    "import statistics\n",
    "from matplotlib import pyplot as plt\n",
    "from scipy import stats"
   ]
  },
  {
   "cell_type": "markdown",
   "id": "e10a4c55",
   "metadata": {},
   "source": [
    "## Data\n",
    "The data are masses from degassing experiments measured after heating the material to two different temperatures, 45$^{\\circ}$C and 80$^{\\circ}$C, respectively."
   ]
  },
  {
   "cell_type": "code",
   "execution_count": 75,
   "id": "989890e1",
   "metadata": {},
   "outputs": [],
   "source": [
    "glob_figpath = '/home/mkrause/data/artificial-muscle/degassing'"
   ]
  },
  {
   "cell_type": "code",
   "execution_count": 76,
   "id": "5c17fbbf",
   "metadata": {},
   "outputs": [
    {
     "name": "stdout",
     "output_type": "stream",
     "text": [
      "at 45: n = 20, at 80: n = 20\n"
     ]
    }
   ],
   "source": [
    "mass_45 = [2.08, 1.75, 0.00, 1.59, 1.33, 1.52, 1.85, 1.96, 1.69, 0.00, -1.61,\n",
    "           0.00, 0.00, 1.52, 1.37, 1.30, 3.90, 1.28, 2.60, 1.39]\n",
    "mass_80 = [4.17, 4.26, 5.80, 7.41, 5.00, 5.88, 5.45, 6.06, 6.25, 4.29, 5.36,\n",
    "           5.19, 4.55, 4.44, 6.00, 7.84, 4.76, 6.78, 4.48, 3.08]\n",
    "print(f'at 45: n = {len(mass_45)}, at 80: n = {len(mass_80)}')"
   ]
  },
  {
   "cell_type": "markdown",
   "id": "e92fc043",
   "metadata": {},
   "source": [
    "### Histogram of the data"
   ]
  },
  {
   "cell_type": "code",
   "execution_count": 81,
   "id": "f6a874ef",
   "metadata": {},
   "outputs": [
    {
     "data": {
      "image/png": "[encoded data removed]",
      "text/plain": [
       "<Figure size 640x480 with 1 Axes>"
      ]
     },
     "metadata": {},
     "output_type": "display_data"
    }
   ],
   "source": [
    "fig, ax = plt.subplots()\n",
    "bins = np.linspace(-2, 10, 12)\n",
    "ax.hist([mass_45, mass_80], bins, label=['45$^{\\circ}$C', '80$^{\\circ}$C'])\n",
    "ax.set_xlabel('Change in mass (%)')\n",
    "ax.set_ylabel('Count of test tubes')\n",
    "ax.legend(loc='upper right')\n",
    "figpath = os.path.join(glob_figpath, 'degassing_histogram.svg')\n",
    "fig.savefig(figpath)"
   ]
  },
  {
   "cell_type": "markdown",
   "id": "211e7f85",
   "metadata": {},
   "source": [
    "### Mean and standard deviation of the two samples"
   ]
  },
  {
   "cell_type": "markdown",
   "id": "2c6883ea",
   "metadata": {},
   "source": [
    "#### Samples at 45$^{\\circ}$C"
   ]
  },
  {
   "cell_type": "code",
   "execution_count": 78,
   "id": "ff9f9198",
   "metadata": {},
   "outputs": [
    {
     "name": "stdout",
     "output_type": "stream",
     "text": [
      "Mean of sample: 1.276 \n",
      "Standard Deviation of sample: 1.1599201424417567 \n"
     ]
    }
   ],
   "source": [
    "print(\"Mean of sample: % s \"\n",
    "                % (statistics.mean(mass_45)))\n",
    "print(\"Standard Deviation of sample: % s \"\n",
    "                % (statistics.stdev(mass_45)))"
   ]
  },
  {
   "cell_type": "markdown",
   "id": "68c6fb92",
   "metadata": {},
   "source": [
    "#### Samples at 80$^{\\circ}$C"
   ]
  },
  {
   "cell_type": "code",
   "execution_count": 79,
   "id": "558d8580",
   "metadata": {},
   "outputs": [
    {
     "name": "stdout",
     "output_type": "stream",
     "text": [
      "Mean of sample: 5.3525 \n",
      "Standard Deviation of sample: 1.1764526295068936 \n"
     ]
    }
   ],
   "source": [
    "print(\"Mean of sample: % s \"\n",
    "                % (statistics.mean(mass_80)))\n",
    "print(\"Standard Deviation of sample: % s \"\n",
    "                % (statistics.stdev(mass_80)))"
   ]
  },
  {
   "cell_type": "markdown",
   "id": "ced0dd3e",
   "metadata": {},
   "source": [
    "### Statistical evalution of the data\n",
    "Student's t-test with unequal variances rejects the null hypothesis that the means of the sample measured at 45$^{\\circ}$C and 80$^{\\circ}$C, respectively, are from the same population."
   ]
  },
  {
   "cell_type": "code",
   "execution_count": 80,
   "id": "930813dc",
   "metadata": {},
   "outputs": [
    {
     "name": "stdout",
     "output_type": "stream",
     "text": [
      "statistic: -11.034799164730117, p-value: 2.0683924416250885e-13\n"
     ]
    }
   ],
   "source": [
    "statistic, pvalue = stats.ttest_ind(mass_45, mass_80, equal_var=False)\n",
    "print(f'statistic: {statistic}, p-value: {pvalue}')"
   ]
  },
  {
   "cell_type": "code",
   "execution_count": null,
   "id": "7a000d97",
   "metadata": {},
   "outputs": [],
   "source": []
  }
 ],
 "metadata": {
  "kernelspec": {
   "display_name": ".venv",
   "language": "python",
   "name": ".venv"
  },
  "language_info": {
   "codemirror_mode": {
    "name": "ipython",
    "version": 3
   },
   "file_extension": ".py",
   "mimetype": "text/x-python",
   "name": "python",
   "nbconvert_exporter": "python",
   "pygments_lexer": "ipython3",
   "version": "3.10.6"
  }
 },
 "nbformat": 4,
 "nbformat_minor": 5
}
