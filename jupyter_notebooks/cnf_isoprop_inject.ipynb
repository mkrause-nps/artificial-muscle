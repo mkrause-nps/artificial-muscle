{
 "cells": [
  {
   "cell_type": "markdown",
   "id": "1efa882f",
   "metadata": {},
   "source": [
    "# Results from the CNF-isopropanol injection experiments"
   ]
  },
  {
   "cell_type": "markdown",
   "id": "ffa2fcfb",
   "metadata": {},
   "source": [
    "Carbon nanofibers (CNFs) were suspended in isopropanol at 3 mg/ml. The suspension was repeatedly injected into a chip with XL- and L-sized serpentine channels. The accumulation of CNFs inside the channel was tracked by images after each iteration. After the 5th injection (following baking and imaging) I measured the conductance (channels do not contain any resin). Experiments were conducted in Apr 2023."
   ]
  },
  {
   "cell_type": "code",
   "execution_count": 2,
   "id": "9bf05670",
   "metadata": {},
   "outputs": [],
   "source": [
    "import matplotlib.pyplot as plt\n",
    "import os\n",
    "from typing import Tuple"
   ]
  },
  {
   "cell_type": "markdown",
   "id": "903e1742",
   "metadata": {},
   "source": [
    "### Path where figures are saved to - change as needed"
   ]
  },
  {
   "cell_type": "code",
   "execution_count": 6,
   "id": "117192d4",
   "metadata": {},
   "outputs": [],
   "source": [
    "glob_figpath = '/home/mkrause/data/cnf_isopropanol_inject'\n",
    "if not os.path.exists(glob_figpath):\n",
    "    os.makedirs(glob_figpath)"
   ]
  },
  {
   "cell_type": "markdown",
   "id": "2b132e1b",
   "metadata": {},
   "source": [
    "## Resistance values from Excel sheet \"resistance.xlsx\" in `artificial_muscle\\images\\cnf_isopropanol_loading`"
   ]
  },
  {
   "cell_type": "markdown",
   "id": "00819ef5",
   "metadata": {},
   "source": [
    "### Lists of measured electr. resistances. Values are in K$\\Omega$"
   ]
  },
  {
   "cell_type": "code",
   "execution_count": 10,
   "id": "a96deb6b",
   "metadata": {},
   "outputs": [],
   "source": [
    "XL = [115.626, 43.4411, 695.156]\n",
    "L = [1214.9, 72.4, 799.9]"
   ]
  },
  {
   "cell_type": "markdown",
   "id": "dd05eef3",
   "metadata": {},
   "source": [
    "## Define x- and y-labels"
   ]
  },
  {
   "cell_type": "code",
   "execution_count": 11,
   "id": "3e3303be",
   "metadata": {},
   "outputs": [],
   "source": [
    "xlabel = 'Measured electrical resistance ($M\\Omega$)'\n",
    "ylabel = 'Resistance (K$\\Omega$)'"
   ]
  },
  {
   "cell_type": "code",
   "execution_count": 12,
   "id": "86421e8a",
   "metadata": {},
   "outputs": [],
   "source": [
    "def plot_box(data, title=None, xlabel=None, ylabel=None, yticklabel=None, figname=None, xlim=None) -> None:\n",
    "    \"\"\"Create horizontal boxplot of data\"\"\"\n",
    "    fig, ax = plt.subplots()\n",
    "    fig.subplots_adjust(left=0.4, right=0.8, top=0.9, bottom=0.2)\n",
    "    ax.boxplot(x=data, patch_artist = True, vert = 0, widths=(0.5, 0.5))\n",
    "    ax.set_title(title)\n",
    "    ax.set_yticklabels(yticklabel)\n",
    "    ax.set_xlabel(xlabel)\n",
    "    ax.set_ylabel(ylabel)\n",
    "    if xlim:\n",
    "        plt.xlim(xlim)\n",
    "    if figname:\n",
    "        figpath = os.path.join(glob_figpath, figname)\n",
    "        fig.savefig(figpath)"
   ]
  },
  {
   "cell_type": "code",
   "execution_count": 17,
   "id": "55ffdd93",
   "metadata": {},
   "outputs": [
    {
     "data": {
      "image/png": "[encoded data removed]",
      "text/plain": [
       "<Figure size 640x480 with 1 Axes>"
      ]
     },
     "metadata": {},
     "output_type": "display_data"
    }
   ],
   "source": [
    "title = 'Electrical resistance of CNFs injected into channel'\n",
    "xlabel = 'R [K$\\Omega$]'\n",
    "ylabel = 'Channel size'\n",
    "yticklabel = ['XL', 'L']\n",
    "figname = 'resistance_cnf_isoprop_inject.png'\n",
    "xlim = [0, 1500]\n",
    "plot_box(data=[XL, L], title=title, xlabel=xlabel, ylabel=ylabel, yticklabel=yticklabel, figname=figname, xlim=xlim)"
   ]
  },
  {
   "cell_type": "code",
   "execution_count": null,
   "id": "d60d25ed",
   "metadata": {},
   "outputs": [],
   "source": []
  }
 ],
 "metadata": {
  "kernelspec": {
   "display_name": "venv",
   "language": "python",
   "name": "venv"
  },
  "language_info": {
   "codemirror_mode": {
    "name": "ipython",
    "version": 3
   },
   "file_extension": ".py",
   "mimetype": "text/x-python",
   "name": "python",
   "nbconvert_exporter": "python",
   "pygments_lexer": "ipython3",
   "version": "3.10.6"
  }
 },
 "nbformat": 4,
 "nbformat_minor": 5
}
