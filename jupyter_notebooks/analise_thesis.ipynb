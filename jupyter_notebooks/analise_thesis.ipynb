{
 "cells": [
  {
   "cell_type": "markdown",
   "id": "4d2af442",
   "metadata": {},
   "source": [
    "# Data from Analise's Thesis"
   ]
  },
  {
   "cell_type": "code",
   "execution_count": 1,
   "id": "64bdc7c4",
   "metadata": {},
   "outputs": [],
   "source": [
    "import os\n",
    "os.chdir('..')"
   ]
  },
  {
   "cell_type": "code",
   "execution_count": 2,
   "id": "bcdbf766",
   "metadata": {},
   "outputs": [],
   "source": [
    "import pandas as pd\n",
    "from src.plot_utils import PlotUtils\n",
    "from src.analise_thesis.plotter import Plotter\n",
    "import matplotlib.pyplot as plt\n",
    "from pprint import pprint"
   ]
  },
  {
   "cell_type": "markdown",
   "id": "44961e57",
   "metadata": {},
   "source": [
    "### Set general figure parameters"
   ]
  },
  {
   "cell_type": "code",
   "execution_count": 7,
   "id": "9b0cc897",
   "metadata": {},
   "outputs": [],
   "source": [
    "home = os.path.expanduser(\"~\")\n",
    "figure_store_path = os.path.join(home_dir, 'data/figs_sensors_actuators')\n",
    "os.makedirs(figure_store_path, mode = 0o777, exist_ok = True)\n",
    "fig_format = 'svg'\n",
    "tick_fontsize = 14\n",
    "PlotUtils.set_user_figure_dir(user_fig_directory=figure_store_path)"
   ]
  },
  {
   "cell_type": "markdown",
   "id": "a75c2302",
   "metadata": {},
   "source": [
    "## Hard chip data"
   ]
  },
  {
   "cell_type": "code",
   "execution_count": 4,
   "id": "beb719e4",
   "metadata": {},
   "outputs": [],
   "source": [
    "data_hard = [\n",
    "    (896, 1, 'hard'),\n",
    "    (764, 1, 'hard'),\n",
    "    (608, 1, 'hard'),\n",
    "    (512, 1, 'hard'),\n",
    "    (764, 2, 'hard'),\n",
    "    (608, 2, 'hard'),\n",
    "    (512, 2, 'hard'),\n",
    "    (384, 2, 'hard'),\n",
    "    (288, 2, 'hard'),\n",
    "    (996, 3, 'hard'),\n",
    "    (800, 3, 'hard'),\n",
    "    (764, 3, 'hard'),\n",
    "    (764, 4, 'hard'),\n",
    "    (512, 4, 'hard'),\n",
    "    (384, 4, 'hard'),\n",
    "    (192, 4, 'hard'),\n",
    "    ]\n",
    "plotter_hard = Plotter(data = data_hard, nrows = 1, ncols = 1,\n",
    "                       xlabel = \"injection number\", ylabel = 'R [K$\\Omega$]',\n",
    "                       xlim = [0, 5], ylim = [0, 1e6], capsize = 10,\n",
    "                       fig_format = fig_format, tick_fontsize=tick_fontsize)"
   ]
  },
  {
   "cell_type": "code",
   "execution_count": 5,
   "id": "4805741c",
   "metadata": {},
   "outputs": [
    {
     "name": "stdout",
     "output_type": "stream",
     "text": [
      "[(192, 4, 'hard'),\n",
      " (288, 2, 'hard'),\n",
      " (384, 2, 'hard'),\n",
      " (384, 4, 'hard'),\n",
      " (512, 1, 'hard'),\n",
      " (512, 2, 'hard'),\n",
      " (512, 4, 'hard'),\n",
      " (608, 1, 'hard'),\n",
      " (608, 2, 'hard'),\n",
      " (764, 1, 'hard'),\n",
      " (764, 2, 'hard'),\n",
      " (764, 3, 'hard'),\n",
      " (764, 4, 'hard'),\n",
      " (800, 3, 'hard'),\n",
      " (896, 1, 'hard'),\n",
      " (996, 3, 'hard')]\n"
     ]
    }
   ],
   "source": [
    "plotter_hard.sort_tuples(data=data_hard, idx_to_sort_by=0)\n",
    "pprint(data_hard)\n",
    "# special = filter_by_width(data, 764)\n",
    "# print(special)"
   ]
  },
  {
   "cell_type": "markdown",
   "id": "d8893a02",
   "metadata": {},
   "source": [
    "### Create plots for each data tuple for all hard data"
   ]
  },
  {
   "cell_type": "code",
   "execution_count": 6,
   "id": "42e5d4fa",
   "metadata": {
    "scrolled": true
   },
   "outputs": [
    {
     "name": "stdout",
     "output_type": "stream",
     "text": [
      "[Errno 2] No such file or directory: '/home/mkrause/data/artificial-muscle/analise_thesis/CNF Data.xlsx': check if that Excel file exists in the directory - if not add it\n"
     ]
    },
    {
     "ename": "SystemExit",
     "evalue": "Can't find Excel file /home/mkrause/data/artificial-muscle/analise_thesis/CNF Data.xlsx - aborting",
     "output_type": "error",
     "traceback": [
      "An exception has occurred, use %tb to see the full traceback.\n",
      "\u001b[0;31mSystemExit\u001b[0m\u001b[0;31m:\u001b[0m Can't find Excel file /home/mkrause/data/artificial-muscle/analise_thesis/CNF Data.xlsx - aborting\n"
     ]
    },
    {
     "name": "stderr",
     "output_type": "stream",
     "text": [
      "/home/mkrause/dev/artificial-muscle/.venv/lib/python3.10/site-packages/IPython/core/interactiveshell.py:3534: UserWarning: To exit: use 'exit', 'quit', or Ctrl-D.\n",
      "  warn(\"To exit: use 'exit', 'quit', or Ctrl-D.\", stacklevel=1)\n"
     ]
    }
   ],
   "source": [
    "plotter_hard.run_individual_chips()"
   ]
  },
  {
   "cell_type": "markdown",
   "id": "ca6698f5",
   "metadata": {},
   "source": [
    "### Create a Pandas Dataframe for all _hard_ data"
   ]
  },
  {
   "cell_type": "code",
   "execution_count": null,
   "id": "e8d59f55",
   "metadata": {
    "scrolled": true
   },
   "outputs": [],
   "source": [
    "df = pd.DataFrame()\n",
    "channel_widths = plotter_hard.get_channel_list()\n",
    "for channel_width in channel_widths:\n",
    "    data = plotter_hard.filter_by_width(width=channel_width)\n",
    "    df_ = pd.DataFrame(plotter_hard.get_averaged_channel_data(data))\n",
    "    df = pd.concat([df_, df])"
   ]
  },
  {
   "cell_type": "markdown",
   "id": "b2a1e805",
   "metadata": {},
   "source": [
    "### Print dataframe and write to disk as a CSV file"
   ]
  },
  {
   "cell_type": "code",
   "execution_count": null,
   "id": "6744c916",
   "metadata": {},
   "outputs": [],
   "source": [
    "path = os.path.join(PlotUtils.glob_figpath, 'weighted_data_hard.csv')\n",
    "df.to_csv(path)\n",
    "df"
   ]
  },
  {
   "cell_type": "markdown",
   "id": "4ab2b98d",
   "metadata": {},
   "source": [
    "### Filter dataframe for the resistance at the last injection"
   ]
  },
  {
   "cell_type": "code",
   "execution_count": null,
   "id": "d1ed18ae",
   "metadata": {},
   "outputs": [],
   "source": [
    "df_last_injection = df.loc[df.x_data == df.number_of_injections]\n",
    "df_last_injection"
   ]
  },
  {
   "cell_type": "markdown",
   "id": "c42f724e",
   "metadata": {},
   "source": [
    "### Summary plots: resistance at each channel after last injection\n",
    "The number of the last injection is variable, shown in the above tables in column `number_of_injections`."
   ]
  },
  {
   "cell_type": "code",
   "execution_count": null,
   "id": "473afe2e",
   "metadata": {},
   "outputs": [],
   "source": [
    "# print(df_last_injection.chip_width.to_list())\n",
    "title = 'Channel resistance after the last injection (hard)'\n",
    "xlabel = 'Channel width ($\\mu m$)'\n",
    "ylabel = 'Resistance (k$\\Omega$)'\n",
    "# with linear y-scale\n",
    "figname = os.path.join(PlotUtils.glob_figpath, f'resistance_at_last_injection_hard_linear.{fig_format}')\n",
    "PlotUtils.plot_scatter(df_last_injection.chip_width, df_last_injection.y_data, yerr=df_last_injection.y_err,\n",
    "                       nrows=plotter_hard.nrows, ncols=plotter_hard.ncols, \n",
    "                       xlabel=plotter_hard.xlabel, ylabel=plotter_hard.ylabel, capsize=plotter_hard.capsize,\n",
    "                       xticks=df_last_injection.chip_width.to_list(), title=title, figname=figname,\n",
    "                       fig_format=fig_format)\n",
    "# with logarithmic y-scale\n",
    "figname = os.path.join(PlotUtils.glob_figpath, f'resistance_at_last_injection_hard_logarithmic.{fig_format}')\n",
    "PlotUtils.plot_scatter(df_last_injection.chip_width, df_last_injection.y_data, yerr=df_last_injection.y_err,\n",
    "                       nrows=plotter_hard.nrows, ncols=plotter_hard.ncols, \n",
    "                       xlabel=plotter_hard.xlabel, ylabel=plotter_hard.ylabel, capsize=plotter_hard.capsize,\n",
    "                       xticks=df_last_injection.chip_width.to_list(), title=title, figname=figname,\n",
    "                       fig_format=fig_format, yscale='log')"
   ]
  },
  {
   "cell_type": "markdown",
   "id": "c3f77b32",
   "metadata": {},
   "source": [
    "## Soft chip data"
   ]
  },
  {
   "cell_type": "code",
   "execution_count": null,
   "id": "3ddc5f69",
   "metadata": {},
   "outputs": [],
   "source": [
    "data_soft = [\n",
    "    (720, 1, 'soft'),\n",
    "    (720, 3, 'soft'),\n",
    "    (720, 5, 'soft'),\n",
    "    (720, 6, 'soft'),\n",
    "    (960, 1, 'soft'),\n",
    "    (960, 5, 'soft'),\n",
    "    (840, 1, 'soft'),\n",
    "    (840, 5, 'soft'),\n",
    "    (840, 6, 'soft'),\n",
    "    (1080, 1, 'soft'),\n",
    "    (1080, 2, 'soft'),\n",
    "    (1080, 3, 'soft'),\n",
    "    (1080, 5, 'soft'),\n",
    "    (1080, 6, 'soft'),\n",
    "    (1080, 7, 'soft'),\n",
    "    (600, 2, 'soft'),\n",
    "    (600, 3, 'soft'),\n",
    "    (600, 5, 'soft'),\n",
    "    (480, 2, 'soft'),\n",
    "]\n",
    "plotter_soft = Plotter(data = data_soft, nrows = 1, ncols = 1, \n",
    "                       xlabel = \"injection number\", ylabel = 'R [K$\\Omega$]',\n",
    "                       xlim = [0, 5], ylim = [0, 1e6], capsize = 10,\n",
    "                       fig_format = fig_format)"
   ]
  },
  {
   "cell_type": "markdown",
   "id": "0b6adb88",
   "metadata": {},
   "source": [
    "### Create plots for each data tuple"
   ]
  },
  {
   "cell_type": "code",
   "execution_count": null,
   "id": "5a2bed69",
   "metadata": {},
   "outputs": [],
   "source": [
    "plotter_soft.run_individual_chips()"
   ]
  },
  {
   "cell_type": "code",
   "execution_count": null,
   "id": "935fa0b4",
   "metadata": {},
   "outputs": [],
   "source": [
    "df = pd.DataFrame()\n",
    "channel_widths = plotter_soft.get_channel_list()\n",
    "for channel_width in channel_widths:\n",
    "    data = plotter_soft.filter_by_width(width=channel_width)\n",
    "    df_ = pd.DataFrame(plotter_soft.get_averaged_channel_data(data))\n",
    "    df = pd.concat([df_, df])"
   ]
  },
  {
   "cell_type": "code",
   "execution_count": null,
   "id": "6921f6af",
   "metadata": {},
   "outputs": [],
   "source": [
    "path = os.path.join(PlotUtils.glob_figpath, 'weighted_data_soft.csv')\n",
    "df.to_csv(path)\n",
    "df"
   ]
  },
  {
   "cell_type": "markdown",
   "id": "45893767",
   "metadata": {},
   "source": [
    "### Filter dataframe for last injection"
   ]
  },
  {
   "cell_type": "code",
   "execution_count": null,
   "id": "e223865e",
   "metadata": {},
   "outputs": [],
   "source": [
    "df_last_injection = df.loc[df.x_data == df.number_of_injections]\n",
    "df_last_injection"
   ]
  },
  {
   "cell_type": "markdown",
   "id": "8b02bf3d",
   "metadata": {},
   "source": [
    "### Summary plots: resistance at each channel after last injection\n",
    "The number of the last injection is variable, shown in the above tables in column `number_of_injections`."
   ]
  },
  {
   "cell_type": "code",
   "execution_count": null,
   "id": "dc935949",
   "metadata": {},
   "outputs": [],
   "source": [
    "print(df_last_injection.chip_width.to_list())\n",
    "title = 'Channel resistance after the last injection (soft)'\n",
    "xlabel = 'Channel width ($\\mu m$)'\n",
    "ylabel = 'Resistance (k$\\Omega$)'\n",
    "\n",
    "# with linear y-scale\n",
    "figname = os.path.join(PlotUtils.glob_figpath, f'resistance_at_last_injection_soft_linear.{fig_format}')\n",
    "PlotUtils.plot_scatter(df_last_injection.chip_width, df_last_injection.y_data, yerr=df_last_injection.y_err, \n",
    "                       nrows=plotter_soft.nrows, ncols=plotter_soft.ncols, \n",
    "                       xlabel=plotter_soft.xlabel, ylabel=plotter_soft.ylabel, capsize=plotter_soft.capsize,\n",
    "                       xticks=df_last_injection.chip_width.to_list(), title=title, figname=figname,\n",
    "                       fig_format=fig_format, ylim=[0, 200])\n",
    "\n",
    "# with logrithmic y-scale\n",
    "figname = os.path.join(PlotUtils.glob_figpath, f'resistance_at_last_injection_soft_logarithmic.{fig_format}')\n",
    "PlotUtils.plot_scatter(df_last_injection.chip_width, df_last_injection.y_data, yerr=df_last_injection.y_err, \n",
    "                       nrows=plotter_soft.nrows, ncols=plotter_soft.ncols, \n",
    "                       xlabel=plotter_soft.xlabel, ylabel=plotter_soft.ylabel, capsize=plotter_soft.capsize,\n",
    "                       xticks=df_last_injection.chip_width.to_list(), title=title, figname=figname,\n",
    "                       fig_format=fig_format, ylim=[0, 200], yscale='log')"
   ]
  },
  {
   "cell_type": "code",
   "execution_count": null,
   "id": "5f7dc01e",
   "metadata": {},
   "outputs": [],
   "source": []
  }
 ],
 "metadata": {
  "kernelspec": {
   "display_name": ".venv",
   "language": "python",
   "name": ".venv"
  },
  "language_info": {
   "codemirror_mode": {
    "name": "ipython",
    "version": 3
   },
   "file_extension": ".py",
   "mimetype": "text/x-python",
   "name": "python",
   "nbconvert_exporter": "python",
   "pygments_lexer": "ipython3",
   "version": "3.10.12"
  }
 },
 "nbformat": 4,
 "nbformat_minor": 5
}
