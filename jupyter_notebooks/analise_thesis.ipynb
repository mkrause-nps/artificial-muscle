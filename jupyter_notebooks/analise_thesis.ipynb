{
 "cells": [
  {
   "cell_type": "markdown",
   "id": "4d2af442",
   "metadata": {},
   "source": [
    "# Data from Analise's Thesis"
   ]
  },
  {
   "cell_type": "code",
   "execution_count": 1,
   "id": "64bdc7c4",
   "metadata": {},
   "outputs": [],
   "source": []
  },
  {
   "cell_type": "markdown",
   "id": "a75c2302",
   "metadata": {},
   "source": [
    "### Hard Channel Data"
   ]
  },
  {
   "cell_type": "code",
   "execution_count": null,
   "id": "71f41462",
   "metadata": {},
   "outputs": [],
   "source": []
  }
 ],
 "metadata": {
  "kernelspec": {
   "display_name": ".venv",
   "language": "python",
   "name": ".venv"
  },
  "language_info": {
   "codemirror_mode": {
    "name": "ipython",
    "version": 3
   },
   "file_extension": ".py",
   "mimetype": "text/x-python",
   "name": "python",
   "nbconvert_exporter": "python",
   "pygments_lexer": "ipython3",
   "version": "3.10.12"
  }
 },
 "nbformat": 4,
 "nbformat_minor": 5
}
